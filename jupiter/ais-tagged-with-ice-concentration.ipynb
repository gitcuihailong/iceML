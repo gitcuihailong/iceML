{
 "cells": [
  {
   "cell_type": "code",
   "execution_count": 1,
   "metadata": {},
   "outputs": [],
   "source": [
    "import numpy as np\n",
    "import pandas as pd\n",
    "import numpy.ma as ma\n",
    "import math\n",
    "from mpl_toolkits.basemap import Basemap  # import Basemap matplotlib toolkit\n",
    "\n",
    "import datetime\n",
    "%matplotlib inline \n",
    "import matplotlib.pyplot as plt\n",
    "from matplotlib import colors\n",
    "from matplotlib.colors import LinearSegmentedColormap\n",
    "import pygrib # import pygrib interface to grib_api"
   ]
  },
  {
   "cell_type": "code",
   "execution_count": 2,
   "metadata": {},
   "outputs": [
    {
     "name": "stdout",
     "output_type": "stream",
     "text": [
      "Size of ais: 12512815\n"
     ]
    },
    {
     "data": {
      "text/html": [
       "<div>\n",
       "<style>\n",
       "    .dataframe thead tr:only-child th {\n",
       "        text-align: right;\n",
       "    }\n",
       "\n",
       "    .dataframe thead th {\n",
       "        text-align: left;\n",
       "    }\n",
       "\n",
       "    .dataframe tbody tr th {\n",
       "        vertical-align: top;\n",
       "    }\n",
       "</style>\n",
       "<table border=\"1\" class=\"dataframe\">\n",
       "  <thead>\n",
       "    <tr style=\"text-align: right;\">\n",
       "      <th></th>\n",
       "      <th>mmsi</th>\n",
       "      <th>lon</th>\n",
       "      <th>lat</th>\n",
       "      <th>sog</th>\n",
       "      <th>cog</th>\n",
       "      <th>heading</th>\n",
       "    </tr>\n",
       "  </thead>\n",
       "  <tbody>\n",
       "    <tr>\n",
       "      <th>count</th>\n",
       "      <td>1.787545e+06</td>\n",
       "      <td>1.787545e+06</td>\n",
       "      <td>1.787545e+06</td>\n",
       "      <td>1.787545e+06</td>\n",
       "      <td>1.787545e+06</td>\n",
       "      <td>1.787545e+06</td>\n",
       "    </tr>\n",
       "    <tr>\n",
       "      <th>mean</th>\n",
       "      <td>2.433939e+08</td>\n",
       "      <td>2.281273e+01</td>\n",
       "      <td>6.374050e+01</td>\n",
       "      <td>6.664055e+00</td>\n",
       "      <td>1.650444e+02</td>\n",
       "      <td>2.014721e+02</td>\n",
       "    </tr>\n",
       "    <tr>\n",
       "      <th>std</th>\n",
       "      <td>4.804646e+07</td>\n",
       "      <td>1.868030e+00</td>\n",
       "      <td>1.418599e+00</td>\n",
       "      <td>1.287539e+01</td>\n",
       "      <td>1.142009e+02</td>\n",
       "      <td>1.464549e+02</td>\n",
       "    </tr>\n",
       "    <tr>\n",
       "      <th>min</th>\n",
       "      <td>2.091850e+08</td>\n",
       "      <td>1.780826e+01</td>\n",
       "      <td>6.100000e+01</td>\n",
       "      <td>0.000000e+00</td>\n",
       "      <td>0.000000e+00</td>\n",
       "      <td>0.000000e+00</td>\n",
       "    </tr>\n",
       "    <tr>\n",
       "      <th>25%</th>\n",
       "      <td>2.300813e+08</td>\n",
       "      <td>2.144750e+01</td>\n",
       "      <td>6.289179e+01</td>\n",
       "      <td>0.000000e+00</td>\n",
       "      <td>4.690000e+01</td>\n",
       "      <td>7.100000e+01</td>\n",
       "    </tr>\n",
       "    <tr>\n",
       "      <th>50%</th>\n",
       "      <td>2.303370e+08</td>\n",
       "      <td>2.287247e+01</td>\n",
       "      <td>6.398245e+01</td>\n",
       "      <td>2.500000e+00</td>\n",
       "      <td>1.796000e+02</td>\n",
       "      <td>1.960000e+02</td>\n",
       "    </tr>\n",
       "    <tr>\n",
       "      <th>75%</th>\n",
       "      <td>2.453060e+08</td>\n",
       "      <td>2.419174e+01</td>\n",
       "      <td>6.483310e+01</td>\n",
       "      <td>1.080000e+01</td>\n",
       "      <td>2.644000e+02</td>\n",
       "      <td>2.910000e+02</td>\n",
       "    </tr>\n",
       "    <tr>\n",
       "      <th>max</th>\n",
       "      <td>6.360923e+08</td>\n",
       "      <td>2.894537e+01</td>\n",
       "      <td>6.579819e+01</td>\n",
       "      <td>1.023000e+02</td>\n",
       "      <td>3.600000e+02</td>\n",
       "      <td>5.110000e+02</td>\n",
       "    </tr>\n",
       "  </tbody>\n",
       "</table>\n",
       "</div>"
      ],
      "text/plain": [
       "               mmsi           lon           lat           sog           cog  \\\n",
       "count  1.787545e+06  1.787545e+06  1.787545e+06  1.787545e+06  1.787545e+06   \n",
       "mean   2.433939e+08  2.281273e+01  6.374050e+01  6.664055e+00  1.650444e+02   \n",
       "std    4.804646e+07  1.868030e+00  1.418599e+00  1.287539e+01  1.142009e+02   \n",
       "min    2.091850e+08  1.780826e+01  6.100000e+01  0.000000e+00  0.000000e+00   \n",
       "25%    2.300813e+08  2.144750e+01  6.289179e+01  0.000000e+00  4.690000e+01   \n",
       "50%    2.303370e+08  2.287247e+01  6.398245e+01  2.500000e+00  1.796000e+02   \n",
       "75%    2.453060e+08  2.419174e+01  6.483310e+01  1.080000e+01  2.644000e+02   \n",
       "max    6.360923e+08  2.894537e+01  6.579819e+01  1.023000e+02  3.600000e+02   \n",
       "\n",
       "            heading  \n",
       "count  1.787545e+06  \n",
       "mean   2.014721e+02  \n",
       "std    1.464549e+02  \n",
       "min    0.000000e+00  \n",
       "25%    7.100000e+01  \n",
       "50%    1.960000e+02  \n",
       "75%    2.910000e+02  \n",
       "max    5.110000e+02  "
      ]
     },
     "execution_count": 2,
     "metadata": {},
     "output_type": "execute_result"
    }
   ],
   "source": [
    "ais = pd.read_csv(\"ais-observations-20180320-20180321.csv\")\n",
    "print(\"Size of ais:\", ais.size)\n",
    "ais.describe()"
   ]
  },
  {
   "cell_type": "code",
   "execution_count": null,
   "metadata": {},
   "outputs": [],
   "source": []
  },
  {
   "cell_type": "code",
   "execution_count": null,
   "metadata": {},
   "outputs": [],
   "source": []
  },
  {
   "cell_type": "code",
   "execution_count": 3,
   "metadata": {},
   "outputs": [],
   "source": [
    "# Open the grib file\n",
    "grbs = pygrib.open('icedata_2018-03-21T00-44-30_next_6hours.grb2')"
   ]
  },
  {
   "cell_type": "code",
   "execution_count": null,
   "metadata": {},
   "outputs": [],
   "source": []
  },
  {
   "cell_type": "code",
   "execution_count": 13,
   "metadata": {},
   "outputs": [],
   "source": [
    "def grb_to_list(grb_obj):\n",
    "    ices = []\n",
    "    for grid in grb_obj:\n",
    "        timestamp = grid.validDate\n",
    "        analysisTime = grid.analDate\n",
    "        values = ma.masked_array(grid.values)\n",
    "        lats, lons = grid.latlons()\n",
    "        if lats.size != lons.size != values.size:\n",
    "            return\n",
    "        for x in range(0, len(values)):\n",
    "            for y in range(0, len(values[x])):\n",
    "                value = float(values[x][y]) * 100\n",
    "                if math.isnan(value):\n",
    "                    continue\n",
    "                lat = lats[x][y]\n",
    "                lon = lons[x][y]\n",
    "                ices.append([timestamp, lat, lon, value, analysisTime])\n",
    "    return ices"
   ]
  },
  {
   "cell_type": "code",
   "execution_count": null,
   "metadata": {},
   "outputs": [],
   "source": []
  },
  {
   "cell_type": "code",
   "execution_count": 14,
   "metadata": {},
   "outputs": [
    {
     "name": "stderr",
     "output_type": "stream",
     "text": [
      "/Users/villehak/anaconda3/lib/python3.6/site-packages/ipykernel_launcher.py:12: UserWarning: Warning: converting a masked element to nan.\n",
      "  if sys.path[0] == '':\n"
     ]
    },
    {
     "name": "stdout",
     "output_type": "stream",
     "text": [
      "            timestamp        lat        lon  concentration        analysisTime\n",
      "0 2018-03-20 19:00:00  56.992486  16.717000       0.000000 2018-03-20 18:00:00\n",
      "1 2018-03-20 19:00:00  56.992486  16.750411       0.000000 2018-03-20 18:00:00\n",
      "2 2018-03-20 19:00:00  56.992486  16.783821       0.000000 2018-03-20 18:00:00\n",
      "3 2018-03-20 19:00:00  56.992486  16.884053       0.000000 2018-03-20 18:00:00\n",
      "4 2018-03-20 19:00:00  56.992486  16.917464       0.000000 2018-03-20 18:00:00\n",
      "5 2018-03-20 19:00:00  56.992486  16.950874       0.999999 2018-03-20 18:00:00\n",
      "6 2018-03-20 19:00:00  56.992486  16.984285       0.999999 2018-03-20 18:00:00\n",
      "7 2018-03-20 19:00:00  56.992486  17.017696       0.000000 2018-03-20 18:00:00\n",
      "8 2018-03-20 19:00:00  56.992486  17.051106       0.000000 2018-03-20 18:00:00\n",
      "9 2018-03-20 19:00:00  56.992486  17.084517       0.000000 2018-03-20 18:00:00\n"
     ]
    },
    {
     "data": {
      "text/html": [
       "<div>\n",
       "<style>\n",
       "    .dataframe thead tr:only-child th {\n",
       "        text-align: right;\n",
       "    }\n",
       "\n",
       "    .dataframe thead th {\n",
       "        text-align: left;\n",
       "    }\n",
       "\n",
       "    .dataframe tbody tr th {\n",
       "        vertical-align: top;\n",
       "    }\n",
       "</style>\n",
       "<table border=\"1\" class=\"dataframe\">\n",
       "  <thead>\n",
       "    <tr style=\"text-align: right;\">\n",
       "      <th></th>\n",
       "      <th>lat</th>\n",
       "      <th>lon</th>\n",
       "      <th>concentration</th>\n",
       "    </tr>\n",
       "  </thead>\n",
       "  <tbody>\n",
       "    <tr>\n",
       "      <th>count</th>\n",
       "      <td>3.996616e+06</td>\n",
       "      <td>3.996616e+06</td>\n",
       "      <td>3.996616e+06</td>\n",
       "    </tr>\n",
       "    <tr>\n",
       "      <th>mean</th>\n",
       "      <td>6.063071e+01</td>\n",
       "      <td>2.132005e+01</td>\n",
       "      <td>4.935330e+01</td>\n",
       "    </tr>\n",
       "    <tr>\n",
       "      <th>std</th>\n",
       "      <td>2.404133e+00</td>\n",
       "      <td>2.698677e+00</td>\n",
       "      <td>4.112871e+01</td>\n",
       "    </tr>\n",
       "    <tr>\n",
       "      <th>min</th>\n",
       "      <td>5.699249e+01</td>\n",
       "      <td>1.671700e+01</td>\n",
       "      <td>0.000000e+00</td>\n",
       "    </tr>\n",
       "    <tr>\n",
       "      <th>25%</th>\n",
       "      <td>5.864569e+01</td>\n",
       "      <td>1.932303e+01</td>\n",
       "      <td>0.000000e+00</td>\n",
       "    </tr>\n",
       "    <tr>\n",
       "      <th>50%</th>\n",
       "      <td>6.009850e+01</td>\n",
       "      <td>2.092674e+01</td>\n",
       "      <td>5.040001e+01</td>\n",
       "    </tr>\n",
       "    <tr>\n",
       "      <th>75%</th>\n",
       "      <td>6.235287e+01</td>\n",
       "      <td>2.293138e+01</td>\n",
       "      <td>9.400001e+01</td>\n",
       "    </tr>\n",
       "    <tr>\n",
       "      <th>max</th>\n",
       "      <td>6.589305e+01</td>\n",
       "      <td>3.021489e+01</td>\n",
       "      <td>1.000000e+02</td>\n",
       "    </tr>\n",
       "  </tbody>\n",
       "</table>\n",
       "</div>"
      ],
      "text/plain": [
       "                lat           lon  concentration\n",
       "count  3.996616e+06  3.996616e+06   3.996616e+06\n",
       "mean   6.063071e+01  2.132005e+01   4.935330e+01\n",
       "std    2.404133e+00  2.698677e+00   4.112871e+01\n",
       "min    5.699249e+01  1.671700e+01   0.000000e+00\n",
       "25%    5.864569e+01  1.932303e+01   0.000000e+00\n",
       "50%    6.009850e+01  2.092674e+01   5.040001e+01\n",
       "75%    6.235287e+01  2.293138e+01   9.400001e+01\n",
       "max    6.589305e+01  3.021489e+01   1.000000e+02"
      ]
     },
     "execution_count": 14,
     "metadata": {},
     "output_type": "execute_result"
    }
   ],
   "source": [
    "grbs.rewind()\n",
    "grb = grbs.select(name='Sea-ice cover')\n",
    "iceList = grb_to_list(grb)\n",
    "concentrations = pd.DataFrame(iceList, columns=['timestamp', 'lat', 'lon', 'concentration', 'analysisTime'])\n",
    "print(concentrations.head(10))\n",
    "concentrations.describe()"
   ]
  },
  {
   "cell_type": "code",
   "execution_count": 10,
   "metadata": {},
   "outputs": [],
   "source": [
    "def filterByLocation(points, latField, lonField, lat, lon, km):\n",
    "    # 0.01 is a rough estimate of one kilometer in lat in norhern latitudes\n",
    "    # 0.02 is a rough estimate of one kilometer in lon in norhern longitudes\n",
    "    points = points.loc[(points[latField] > (lat - km * 0.01)) & (points[latField] < (lat + km * 0.01)) \n",
    "                  & (points[lonField] > (lon - km * 0.02)) & (points[lonField] < (lon + km * 0.02))]\n",
    "    return points\n",
    "\n",
    "def filterByTime(points, timeField, time, dateFormat, hours):\n",
    "    starttime = time - datetime.timedelta(hours=hours)\n",
    "    endtime = time + datetime.timedelta(hours=hours)\n",
    "    return points.loc[(points[timeField] > starttime) & (points[timeField] < endtime)]\n",
    "\n",
    "def findNearestIcePoint(timestamp, lat, lon, points, hours):\n",
    "    points = filterByLocation(points, 'lat', 'lon', lat, lon, 1)\n",
    "    points = filterByTime(points, 'timestamp', timestamp, '%Y-%m-%d %H:%M:%S.%f', 20)\n",
    "    return points"
   ]
  },
  {
   "cell_type": "code",
   "execution_count": 7,
   "metadata": {},
   "outputs": [],
   "source": [
    "MOVE_SPEED_THRESHOLD = 5\n",
    "STOP_SPEED_THRESHOLD = 0.5\n",
    "\n",
    "PREVIOUS_OBSERVATIONS_TIME_FRAME = 5 # store N minutues of observations\n",
    "\n",
    "def filter_previous_observations_by_timestamp(df):\n",
    "    if len(df) > 0:\n",
    "        return df[lambda x: x['timestamp'] >= (df['timestamp'] - pd.Timedelta(15, unit='m'))]\n",
    "    else:\n",
    "        return df\n",
    "\n",
    "\n",
    "def is_sudden_stop(d, prev):\n",
    "    sog_mean = prev['sog'].mean()\n",
    "    return sog_mean >= MOVE_SPEED_THRESHOLD and \\\n",
    "           d['sog'] < STOP_SPEED_THRESHOLD and \\\n",
    "           len(prev) > 1 and (prev['sudden_stopping'] == False).all()\n",
    "\n",
    "\n",
    "def append_sudden_stopping(ais):\n",
    "    ais.assign(sudden_stopping = None)\n",
    "    vessels = {}\n",
    "\n",
    "    for i, d in ais.iterrows():\n",
    "        mmsi = d['mmsi']\n",
    "        if not mmsi in vessels.keys():\n",
    "            vessels[mmsi] = {}\n",
    "            vessels[mmsi]['previous_observations'] = pd.DataFrame(columns=ais.columns)\n",
    "\n",
    "        prev = filter_previous_observations_by_timestamp(vessels[mmsi]['previous_observations'])\n",
    "        vessels[mmsi]['previous_observations'] = prev\n",
    "\n",
    "        ais.set_value(i, 'sudden_stopping', is_sudden_stop(d, prev))\n",
    "\n",
    "        vessels[mmsi]['previous_observations'] = vessels[mmsi]['previous_observations'].append(ais.loc[i])\n",
    "\n",
    "    return ais"
   ]
  },
  {
   "cell_type": "code",
   "execution_count": 8,
   "metadata": {},
   "outputs": [
    {
     "name": "stderr",
     "output_type": "stream",
     "text": [
      "/Users/villehak/anaconda3/lib/python3.6/site-packages/pandas/core/indexing.py:337: SettingWithCopyWarning: \n",
      "A value is trying to be set on a copy of a slice from a DataFrame.\n",
      "Try using .loc[row_indexer,col_indexer] = value instead\n",
      "\n",
      "See the caveats in the documentation: http://pandas.pydata.org/pandas-docs/stable/indexing.html#indexing-view-versus-copy\n",
      "  self.obj[key] = _infer_fill_value(value)\n",
      "/Users/villehak/anaconda3/lib/python3.6/site-packages/pandas/core/indexing.py:517: SettingWithCopyWarning: \n",
      "A value is trying to be set on a copy of a slice from a DataFrame.\n",
      "Try using .loc[row_indexer,col_indexer] = value instead\n",
      "\n",
      "See the caveats in the documentation: http://pandas.pydata.org/pandas-docs/stable/indexing.html#indexing-view-versus-copy\n",
      "  self.obj[item] = s\n"
     ]
    },
    {
     "data": {
      "text/html": [
       "<div>\n",
       "<style>\n",
       "    .dataframe thead tr:only-child th {\n",
       "        text-align: right;\n",
       "    }\n",
       "\n",
       "    .dataframe thead th {\n",
       "        text-align: left;\n",
       "    }\n",
       "\n",
       "    .dataframe tbody tr th {\n",
       "        vertical-align: top;\n",
       "    }\n",
       "</style>\n",
       "<table border=\"1\" class=\"dataframe\">\n",
       "  <thead>\n",
       "    <tr style=\"text-align: right;\">\n",
       "      <th></th>\n",
       "      <th>timestamp</th>\n",
       "      <th>mmsi</th>\n",
       "      <th>lon</th>\n",
       "      <th>lat</th>\n",
       "      <th>sog</th>\n",
       "      <th>cog</th>\n",
       "      <th>heading</th>\n",
       "      <th>sudden_stopping</th>\n",
       "    </tr>\n",
       "  </thead>\n",
       "  <tbody>\n",
       "    <tr>\n",
       "      <th>11490</th>\n",
       "      <td>2018-03-20 19:01:17.060</td>\n",
       "      <td>230940340</td>\n",
       "      <td>23.716325</td>\n",
       "      <td>64.226382</td>\n",
       "      <td>0.4</td>\n",
       "      <td>319.0</td>\n",
       "      <td>130</td>\n",
       "      <td>True</td>\n",
       "    </tr>\n",
       "    <tr>\n",
       "      <th>19956</th>\n",
       "      <td>2018-03-20 19:09:28.704</td>\n",
       "      <td>212385000</td>\n",
       "      <td>21.738440</td>\n",
       "      <td>63.839225</td>\n",
       "      <td>0.2</td>\n",
       "      <td>245.2</td>\n",
       "      <td>180</td>\n",
       "      <td>True</td>\n",
       "    </tr>\n",
       "  </tbody>\n",
       "</table>\n",
       "</div>"
      ],
      "text/plain": [
       "                    timestamp       mmsi        lon        lat  sog    cog  \\\n",
       "11490 2018-03-20 19:01:17.060  230940340  23.716325  64.226382  0.4  319.0   \n",
       "19956 2018-03-20 19:09:28.704  212385000  21.738440  63.839225  0.2  245.2   \n",
       "\n",
       "       heading sudden_stopping  \n",
       "11490      130            True  \n",
       "19956      180            True  "
      ]
     },
     "execution_count": 8,
     "metadata": {},
     "output_type": "execute_result"
    }
   ],
   "source": [
    "ais['timestamp'] = pd.to_datetime(ais['timestamp'])\n",
    "\n",
    "testDate = '2018-03-20 20:00:00.000'\n",
    "d = datetime.datetime.strptime(testDate, '%Y-%m-%d %H:%M:%S.%f')\n",
    "starttime = d - datetime.timedelta(hours=1)\n",
    "ais = ais.loc[(ais['timestamp'] > starttime)]\n",
    "\n",
    "subAis = ais.head(10000)\n",
    "subAis = append_sudden_stopping(subAis)\n",
    "subAis = subAis.loc[subAis['sudden_stopping'] == True]\n",
    "subAis.head(10)"
   ]
  },
  {
   "cell_type": "code",
   "execution_count": 15,
   "metadata": {},
   "outputs": [
    {
     "name": "stderr",
     "output_type": "stream",
     "text": [
      "/Users/villehak/anaconda3/lib/python3.6/site-packages/ipykernel_launcher.py:9: SettingWithCopyWarning: \n",
      "A value is trying to be set on a copy of a slice from a DataFrame\n",
      "\n",
      "See the caveats in the documentation: http://pandas.pydata.org/pandas-docs/stable/indexing.html#indexing-view-versus-copy\n",
      "  if __name__ == '__main__':\n"
     ]
    },
    {
     "data": {
      "text/html": [
       "<div>\n",
       "<style>\n",
       "    .dataframe thead tr:only-child th {\n",
       "        text-align: right;\n",
       "    }\n",
       "\n",
       "    .dataframe thead th {\n",
       "        text-align: left;\n",
       "    }\n",
       "\n",
       "    .dataframe tbody tr th {\n",
       "        vertical-align: top;\n",
       "    }\n",
       "</style>\n",
       "<table border=\"1\" class=\"dataframe\">\n",
       "  <thead>\n",
       "    <tr style=\"text-align: right;\">\n",
       "      <th></th>\n",
       "      <th>timestamp</th>\n",
       "      <th>mmsi</th>\n",
       "      <th>lon</th>\n",
       "      <th>lat</th>\n",
       "      <th>sog</th>\n",
       "      <th>cog</th>\n",
       "      <th>heading</th>\n",
       "      <th>sudden_stopping</th>\n",
       "      <th>ic</th>\n",
       "    </tr>\n",
       "  </thead>\n",
       "  <tbody>\n",
       "    <tr>\n",
       "      <th>11490</th>\n",
       "      <td>2018-03-20 19:01:17.060</td>\n",
       "      <td>230940340</td>\n",
       "      <td>23.716325</td>\n",
       "      <td>64.226382</td>\n",
       "      <td>0.4</td>\n",
       "      <td>319.0</td>\n",
       "      <td>130</td>\n",
       "      <td>True</td>\n",
       "      <td>91.5</td>\n",
       "    </tr>\n",
       "    <tr>\n",
       "      <th>19956</th>\n",
       "      <td>2018-03-20 19:09:28.704</td>\n",
       "      <td>212385000</td>\n",
       "      <td>21.738440</td>\n",
       "      <td>63.839225</td>\n",
       "      <td>0.2</td>\n",
       "      <td>245.2</td>\n",
       "      <td>180</td>\n",
       "      <td>True</td>\n",
       "      <td>97.5</td>\n",
       "    </tr>\n",
       "  </tbody>\n",
       "</table>\n",
       "</div>"
      ],
      "text/plain": [
       "                    timestamp       mmsi        lon        lat  sog    cog  \\\n",
       "11490 2018-03-20 19:01:17.060  230940340  23.716325  64.226382  0.4  319.0   \n",
       "19956 2018-03-20 19:09:28.704  212385000  21.738440  63.839225  0.2  245.2   \n",
       "\n",
       "       heading sudden_stopping    ic  \n",
       "11490      130            True  91.5  \n",
       "19956      180            True  97.5  "
      ]
     },
     "execution_count": 15,
     "metadata": {},
     "output_type": "execute_result"
    }
   ],
   "source": [
    "i = 0\n",
    "subAis['ic'] = 'NaN';\n",
    "#print(subAis.head(10))\n",
    "\n",
    "for index, row in subAis.iterrows():\n",
    "    nearest = findNearestIcePoint(row['timestamp'], row['lat'], row['lon'], concentrations, 1)\n",
    "    #print(row['timestamp'], row['lat'], row['lon'])\n",
    "    if nearest.size > 0:\n",
    "        subAis['ic'][index] = nearest['concentration'].iloc[0]\n",
    "subAis.head(10)"
   ]
  },
  {
   "cell_type": "code",
   "execution_count": 47,
   "metadata": {},
   "outputs": [
    {
     "data": {
      "text/plain": [
       "44"
      ]
     },
     "execution_count": 47,
     "metadata": {},
     "output_type": "execute_result"
    }
   ],
   "source": [
    "subAis['ic'].size"
   ]
  },
  {
   "cell_type": "code",
   "execution_count": 27,
   "metadata": {},
   "outputs": [],
   "source": [
    "concentrations.to_csv('ice_concentrations.csv', sep=',')"
   ]
  },
  {
   "cell_type": "code",
   "execution_count": 48,
   "metadata": {},
   "outputs": [
    {
     "name": "stdout",
     "output_type": "stream",
     "text": [
      "44\n",
      "44\n"
     ]
    },
    {
     "data": {
      "image/png": "[encoded data removed]",
      "text/plain": [
       "<matplotlib.figure.Figure at 0x11708ef60>"
      ]
     },
     "metadata": {},
     "output_type": "display_data"
    }
   ],
   "source": [
    "N = subAis['ic'].size\n",
    "x = np.random.rand(N)\n",
    "y = subAis['ic'].values\n",
    "print(x.size)\n",
    "print(y.size)\n",
    "colors = (0,0,0)\n",
    "area = np.pi*3\n",
    " \n",
    "# Plot\n",
    "plt.scatter(x, y, s=area, c=colors, alpha=0.5)\n",
    "plt.title('Scatter plot pythonspot.com')\n",
    "plt.xlabel('x')\n",
    "plt.ylabel('y')\n",
    "plt.show()"
   ]
  },
  {
   "cell_type": "code",
   "execution_count": null,
   "metadata": {},
   "outputs": [],
   "source": []
  }
 ],
 "metadata": {
  "kernelspec": {
   "display_name": "Python 3",
   "language": "python",
   "name": "python3"
  },
  "language_info": {
   "codemirror_mode": {
    "name": "ipython",
    "version": 3
   },
   "file_extension": ".py",
   "mimetype": "text/x-python",
   "name": "python",
   "nbconvert_exporter": "python",
   "pygments_lexer": "ipython3",
   "version": "3.6.3"
  }
 },
 "nbformat": 4,
 "nbformat_minor": 2
}
